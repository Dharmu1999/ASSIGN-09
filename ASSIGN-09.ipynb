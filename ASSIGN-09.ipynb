{
 "cells": [
  {
   "cell_type": "markdown",
   "id": "b2118514-d701-416a-874b-810e13e9b654",
   "metadata": {},
   "source": [
    "## Q1. What is Abstraction in OOps? Explain with an example?\n"
   ]
  },
  {
   "cell_type": "code",
   "execution_count": null,
   "id": "9e17d9d1-b4ad-4449-97e1-b316dd2cd6cb",
   "metadata": {},
   "outputs": [],
   "source": [
    "# ANS\n",
    "#Abstraction is one of the fundamental concepts in object-oriented programming (OOP) that refers to the ability to focus on essential features of an object while hiding unnecessary or complex details. It is the process of defining a simplified representation of a complex system, which only includes relevant information.\n",
    "\n",
    "#In OOP, abstraction is achieved through the use of abstract classes and interfaces. Abstract classes are classes that cannot be instantiated and serve as a blueprint for other classes, while interfaces are a set of methods that must be implemented by a class that uses them.\n",
    "\n",
    "#For example, let's say you want to create a program that models different shapes, such as circles, rectangles, and triangles. Instead of defining the properties and methods of each shape individually, you can create an abstract class called \"Shape\" that defines common properties and methods that all shapes have, such as area and perimeter."
   ]
  },
  {
   "cell_type": "code",
   "execution_count": 1,
   "id": "05c28436-e9a5-4e7d-88e4-f5079195b883",
   "metadata": {},
   "outputs": [
    {
     "ename": "SyntaxError",
     "evalue": "invalid syntax (1223312225.py, line 1)",
     "output_type": "error",
     "traceback": [
      "\u001b[0;36m  Cell \u001b[0;32mIn[1], line 1\u001b[0;36m\u001b[0m\n\u001b[0;31m    abstract class Shape {\u001b[0m\n\u001b[0m             ^\u001b[0m\n\u001b[0;31mSyntaxError\u001b[0m\u001b[0;31m:\u001b[0m invalid syntax\n"
     ]
    }
   ],
   "source": [
    " abstract class Shape {\n",
    "   double area;\n",
    "   double perimeter;\n",
    "\n",
    "   public abstract void calculateArea();\n",
    "   public abstract void calculatePerimeter();\n",
    "}\n"
   ]
  },
  {
   "cell_type": "code",
   "execution_count": 3,
   "id": "cfbb0f75-3632-414b-9f52-7f1720085c2a",
   "metadata": {},
   "outputs": [
    {
     "ename": "SyntaxError",
     "evalue": "invalid syntax (2855489666.py, line 1)",
     "output_type": "error",
     "traceback": [
      "\u001b[0;36m  Cell \u001b[0;32mIn[3], line 1\u001b[0;36m\u001b[0m\n\u001b[0;31m    class Circle extends Shape {\u001b[0m\n\u001b[0m                 ^\u001b[0m\n\u001b[0;31mSyntaxError\u001b[0m\u001b[0;31m:\u001b[0m invalid syntax\n"
     ]
    }
   ],
   "source": [
    "class Circle extends Shape {\n",
    " double radius;\n",
    "\n",
    "   public void calculateArea() {\n",
    "      area = Math.PI * Math.pow(radius, 2);\n",
    "   }\n",
    "\n",
    "   public void calculatePerimeter() {\n",
    "      perimeter = 2 * Math.PI * radius;\n",
    "   }\n",
    "}\n",
    "\n",
    "class Rectangle extends Shape {\n",
    "   double length;\n",
    "   double width;\n",
    "\n",
    "   public void calculateArea() {\n",
    "      area = length * width;\n",
    "   }\n",
    "\n",
    "   public void calculatePerimeter() {\n",
    "      perimeter = 2 * (length + width);\n",
    "   }\n",
    "}\n",
    "\n",
    "class Triangle extends Shape {\n",
    "   double side1;\n",
    "   double side2;\n",
    "   double side3;\n",
    "\n",
    "   public void calculateArea() {\n",
    "      double s = (side1 + side2 + side3) / 2;\n",
    "      area = Math.sqrt(s * (s - side1) * (s - side2) * (s - side3));\n",
    "   }\n",
    "\n",
    "   public void calculatePerimeter() {\n",
    "      perimeter = side1 + side2 + side3;\n",
    "   }\n",
    "}\n"
   ]
  },
  {
   "cell_type": "markdown",
   "id": "a1785b9f-78d0-40dd-8214-a6b14734ecba",
   "metadata": {},
   "source": [
    "## Q2. Differentiate between Abstraction and Encapsulation. Explain with an example?\n",
    "\n"
   ]
  },
  {
   "cell_type": "markdown",
   "id": "38622fa9-7c12-4988-a51a-47bec38aa87c",
   "metadata": {},
   "source": [
    "# ANS\n",
    "Abstraction and Encapsulation are two important concepts in object-oriented programming (OOP) that serve different purposes.\n",
    "\n",
    "Abstraction is the process of hiding complex implementation details and presenting only the essential features of an object to the user. It focuses on the \"what\" aspect of the object and not on the \"how\" part of it.\n",
    "\n",
    "Encapsulation, on the other hand, is the process of wrapping data and methods into a single unit, thus preventing direct access to the data from outside the unit. It provides data hiding and protects the object's internal state from outside interference.\n",
    "\n",
    "Let's take an example of a car to differentiate between Abstraction and Encapsulation:\n",
    "\n",
    "Abstraction:\n",
    "\n",
    "The user of a car doesn't need to know about the complex mechanics of the engine, transmission, or other components. They only need to know how to drive the car using the steering wheel, pedals, and gearshift. The user interacts with the car based on its essential features without knowing its underlying implementation details. Thus, abstraction helps in presenting a simplified view of the car to the user.\n",
    "\n",
    "Encapsulation:\n",
    "\n",
    "The car is encapsulated into a single unit that contains its data and methods. The engine, transmission, and other components are hidden from the outside world and can only be accessed through defined interfaces, such as the gas pedal, brake pedal, or gearshift. The user cannot directly access or modify the internal workings of the car without going through the defined interfaces. Thus, encapsulation helps in protecting the car's internal state from outside interference.\n",
    "\n",
    "In summary, Abstraction is about hiding implementation details and presenting only essential features, while Encapsulation is about wrapping data and methods into a single unit and protecting the object's internal state from outside interference. Both concepts play a crucial role in OOP and help in creating modular, maintainable, and secure code.\n",
    "\n",
    "\n",
    "\n",
    "\n",
    "\n",
    "User\n"
   ]
  },
  {
   "cell_type": "markdown",
   "id": "8e46b225-de76-4655-99e8-39aa3a374ab7",
   "metadata": {},
   "source": [
    "## Q3. What is abc module in python? Why is it used?"
   ]
  },
  {
   "cell_type": "markdown",
   "id": "eb834c0e-423b-43bd-85e1-8cc6c5db5c58",
   "metadata": {},
   "source": [
    "# ANS\n",
    "The \"abc\" module in Python stands for \"Abstract Base Classes.\" It is a module that provides a way to define abstract classes in Python. Abstract classes are classes that cannot be instantiated on their own and must be subclassed to be used.\n",
    "\n",
    "The \"abc\" module is used to define interfaces or abstract classes that define a set of methods that must be implemented by any concrete subclass that uses them. This helps in creating a standardized interface for classes that share common functionality. The concrete subclass can then implement the methods in its own way.\n",
    "\n",
    "The \"abc\" module defines two types of abstract classes:\n",
    "\n",
    "Abstract Base Classes (ABCs): These are classes that define a set of methods that must be implemented by any concrete subclass that uses them.\n",
    "\n",
    "Mixins: These are classes that define additional methods that can be added to a concrete class to extend its functionality.\n",
    "\n",
    "The \"abc\" module is useful in creating a structured and standardized codebase. By defining abstract classes or interfaces, it is possible to ensure that all subclasses have the same set of methods, making the code more modular and easier to maintain. It also helps in enforcing design patterns like the Template Method pattern and the Strategy pattern."
   ]
  },
  {
   "cell_type": "code",
   "execution_count": 4,
   "id": "b71af995-8422-43be-aedb-1c574218a30a",
   "metadata": {},
   "outputs": [],
   "source": [
    "from abc import ABC, abstractmethod\n",
    "\n",
    "class Shape(ABC):\n",
    "    @abstractmethod\n",
    "    def area(self):\n",
    "        pass\n",
    "\n",
    "    @abstractmethod\n",
    "    def perimeter(self):\n",
    "        pass\n"
   ]
  },
  {
   "cell_type": "code",
   "execution_count": 5,
   "id": "900a1e54-acf1-450a-a081-ed9912974502",
   "metadata": {},
   "outputs": [],
   "source": [
    "class Rectangle(Shape):\n",
    "    def __init__(self, length, width):\n",
    "        self.length = length\n",
    "        self.width = width\n",
    "\n",
    "    def area(self):\n",
    "        return self.length * self.width\n",
    "\n",
    "    def perimeter(self):\n",
    "        return 2 * (self.length + self.width)\n"
   ]
  },
  {
   "cell_type": "markdown",
   "id": "efd41bf0-30d6-46d4-be85-8a7d2f07bb72",
   "metadata": {},
   "source": [
    "## Q4. How can we achieve data abstraction?"
   ]
  },
  {
   "cell_type": "markdown",
   "id": "ff6648b9-a1d3-4d46-a7af-e11a8490df8d",
   "metadata": {},
   "source": [
    "# ANS\n",
    "Data abstraction can be achieved in Python through the use of classes and objects.\n",
    "\n",
    "In Python, a class is a blueprint for creating objects. It defines the attributes and methods that an object can have. An object is an instance of a class, which contains data and methods that operate on that data.\n",
    "\n",
    "To achieve data abstraction, we can create a class that represents a set of related attributes and methods that operate on those attributes. The attributes can be defined as private variables using the double underscore (__) prefix, which makes them inaccessible from outside the class. The methods can be defined as public or private methods, depending on whether they need to be accessed from outside the class.\n",
    "\n",
    "Here is an example of how data abstraction can be achieved in Python:"
   ]
  },
  {
   "cell_type": "code",
   "execution_count": 6,
   "id": "e72773a1-2ada-4b93-9bb5-69228a6040b0",
   "metadata": {},
   "outputs": [],
   "source": [
    "class BankAccount:\n",
    "    def __init__(self, balance):\n",
    "        self.__balance = balance\n",
    "\n",
    "    def deposit(self, amount):\n",
    "        self.__balance += amount\n",
    "\n",
    "    def withdraw(self, amount):\n",
    "        if self.__balance >= amount:\n",
    "            self.__balance -= amount\n",
    "        else:\n",
    "            print(\"Insufficient balance\")\n",
    "\n",
    "    def get_balance(self):\n",
    "        return self.__balance\n"
   ]
  },
  {
   "cell_type": "markdown",
   "id": "2a868fe7-1bd5-42a3-949d-b842f742eaba",
   "metadata": {},
   "source": [
    "## Q5. Can we create an instance of an abstract class? Explain your answer?"
   ]
  },
  {
   "cell_type": "markdown",
   "id": "996fca57-27f0-4e44-8bdc-a57919169d72",
   "metadata": {},
   "source": [
    "# ANS\n",
    "No, we cannot create an instance of an abstract class in Python. An abstract class is a class that contains one or more abstract methods, which are methods that are declared but not implemented in the abstract class. Abstract classes are meant to be subclassed, and the abstract methods are meant to be implemented in the concrete subclasses.\n",
    "\n",
    "When we try to create an instance of an abstract class, Python raises a TypeError with the message \"Can't instantiate abstract class <class_name> with abstract methods <method_names>.\" This is because the abstract methods in the abstract class are not implemented, and therefore, the abstract class is incomplete.\n",
    "\n"
   ]
  },
  {
   "cell_type": "code",
   "execution_count": 8,
   "id": "412a1c00-5285-4b3d-850f-8160e05dd942",
   "metadata": {},
   "outputs": [
    {
     "ename": "TypeError",
     "evalue": "Can't instantiate abstract class Shape with abstract methods area, perimeter",
     "output_type": "error",
     "traceback": [
      "\u001b[0;31m---------------------------------------------------------------------------\u001b[0m",
      "\u001b[0;31mTypeError\u001b[0m                                 Traceback (most recent call last)",
      "Cell \u001b[0;32mIn[8], line 11\u001b[0m\n\u001b[1;32m      8\u001b[0m     \u001b[38;5;129m@abstractmethod\u001b[39m\n\u001b[1;32m      9\u001b[0m     \u001b[38;5;28;01mdef\u001b[39;00m \u001b[38;5;21mperimeter\u001b[39m(\u001b[38;5;28mself\u001b[39m):\n\u001b[1;32m     10\u001b[0m         \u001b[38;5;28;01mpass\u001b[39;00m\n\u001b[0;32m---> 11\u001b[0m s \u001b[38;5;241m=\u001b[39m \u001b[43mShape\u001b[49m\u001b[43m(\u001b[49m\u001b[43m)\u001b[49m  \n",
      "\u001b[0;31mTypeError\u001b[0m: Can't instantiate abstract class Shape with abstract methods area, perimeter"
     ]
    }
   ],
   "source": [
    "from abc import ABC, abstractmethod\n",
    "\n",
    "class Shape(ABC):\n",
    "    @abstractmethod\n",
    "    def area(self):\n",
    "        pass\n",
    "\n",
    "    @abstractmethod\n",
    "    def perimeter(self):\n",
    "        pass\n",
    "s = Shape()  \n"
   ]
  },
  {
   "cell_type": "code",
   "execution_count": 9,
   "id": "b4f476d8-80b3-4c5e-9dd0-dc807dcbc143",
   "metadata": {},
   "outputs": [
    {
     "name": "stdout",
     "output_type": "stream",
     "text": [
      "50\n",
      "30\n"
     ]
    }
   ],
   "source": [
    "class Rectangle(Shape):\n",
    "    def __init__(self, length, width):\n",
    "        self.length = length\n",
    "        self.width = width\n",
    "\n",
    "    def area(self):\n",
    "        return self.length * self.width\n",
    "\n",
    "    def perimeter(self):\n",
    "        return 2 * (self.length + self.width)\n",
    "\n",
    "# Create an instance of the concrete subclass\n",
    "r = Rectangle(5, 10)\n",
    "print(r.area())  # Output: 50\n",
    "print(r.perimeter())  # Output: 30\n"
   ]
  },
  {
   "cell_type": "markdown",
   "id": "527481e8-0e92-4630-91a7-79a90609ed83",
   "metadata": {},
   "source": [
    "## THANKS"
   ]
  },
  {
   "cell_type": "code",
   "execution_count": null,
   "id": "495b647d-36cb-443d-953d-a36aa2309269",
   "metadata": {},
   "outputs": [],
   "source": []
  }
 ],
 "metadata": {
  "kernelspec": {
   "display_name": "Python 3 (ipykernel)",
   "language": "python",
   "name": "python3"
  },
  "language_info": {
   "codemirror_mode": {
    "name": "ipython",
    "version": 3
   },
   "file_extension": ".py",
   "mimetype": "text/x-python",
   "name": "python",
   "nbconvert_exporter": "python",
   "pygments_lexer": "ipython3",
   "version": "3.10.8"
  }
 },
 "nbformat": 4,
 "nbformat_minor": 5
}
